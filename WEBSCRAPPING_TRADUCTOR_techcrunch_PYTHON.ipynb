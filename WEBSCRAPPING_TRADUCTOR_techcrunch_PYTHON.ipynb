{
  "nbformat": 4,
  "nbformat_minor": 0,
  "metadata": {
    "colab": {
      "name": "WEBSCRAPPING-TRADUCTOR-techcrunch-PYTHON.ipynb",
      "provenance": [],
      "collapsed_sections": [],
      "authorship_tag": "ABX9TyNzC4wxQcvqqfLxavjftASj",
      "include_colab_link": true
    },
    "kernelspec": {
      "name": "python3",
      "display_name": "Python 3"
    },
    "language_info": {
      "name": "python"
    }
  },
  "cells": [
    {
      "cell_type": "markdown",
      "metadata": {
        "id": "view-in-github",
        "colab_type": "text"
      },
      "source": [
        "<a href=\"https://colab.research.google.com/github/andrespaz1991/WEBSCRAPPING-techcrunch/blob/main/WEBSCRAPPING_TRADUCTOR_techcrunch_PYTHON.ipynb\" target=\"_parent\"><img src=\"https://colab.research.google.com/assets/colab-badge.svg\" alt=\"Open In Colab\"/></a>"
      ]
    },
    {
      "cell_type": "markdown",
      "source": [
        "# Obtención y traducción de noticias de techcrunch\n",
        "\n",
        "```\n",
        "# Tiene formato de código\n",
        "```\n",
        "\n",
        "ticias de techcrunch"
      ],
      "metadata": {
        "id": "K-A5ypV4naik"
      }
    },
    {
      "cell_type": "code",
      "source": [
        "###############################################################################\n",
        "def techcrunch():\n",
        "    #!pip install googletrans\n",
        "    #!pip install deep_translator\n",
        "    from deep_translator import GoogleTranslator\n",
        "    # - - Esta parte del código traduce únicamente un texto plano\n",
        "    traductor = GoogleTranslator(source='en', target='es')\n",
        "    #--\n",
        "    palabra=\"python\"\n",
        "    from bs4 import BeautifulSoup\n",
        "    import requests \n",
        "    import re\n",
        "    url=\"https://techcrunch.com/\"\n",
        "    #url=url+palabra\n",
        "    req = requests.get(url)\n",
        "    soup = BeautifulSoup(req.text,\"lxml\")\n",
        "    articulos=soup.find_all(\"div\",class_=\"post-block__content\")\n",
        "    archivo = open('techcrunch.html','w')\n",
        "    archivo.write(str('<meta charset=\"utf-8\">'))\n",
        "    for each_book in articulos: \n",
        "      resultado = traductor.translate(each_book.text)\n",
        "      destFile = r\"techcrunch.html\"\n",
        "      with open(destFile, 'a') as f:\n",
        "          #resultado_final=\"<p>\",resultado,\"</p>\"\n",
        "          resultado=\"<p>\"+resultado+\"</p>\"\n",
        "          archivo.write(str(resultado))\n",
        "    archivo.close()\n",
        "    from google.colab.output import eval_js\n",
        "    print(eval_js(\"google.colab.kernel.proxyPort(8000)\"))\n",
        "    !python -m http.server 8000\n",
        "techcrunch()"
      ],
      "metadata": {
        "colab": {
          "base_uri": "https://localhost:8080/",
          "height": 198
        },
        "id": "GPxIBEnBvIbQ",
        "outputId": "dcddfef1-bb02-4434-a60c-c4ee90f7d3b0"
      },
      "execution_count": 13,
      "outputs": [
        {
          "output_type": "stream",
          "name": "stdout",
          "text": [
            "https://p4dtgb2lu9-496ff2e9c6d22116-8000-colab.googleusercontent.com/\n",
            "Serving HTTP on 0.0.0.0 port 8000 (http://0.0.0.0:8000/) ...\n",
            "127.0.0.1 - - [19/Apr/2022 23:24:29] \"GET / HTTP/1.1\" 200 -\n",
            "127.0.0.1 - - [19/Apr/2022 23:24:30] code 404, message File not found\n",
            "127.0.0.1 - - [19/Apr/2022 23:24:30] \"GET /favicon.ico HTTP/1.1\" 404 -\n",
            "127.0.0.1 - - [19/Apr/2022 23:24:32] \"GET /techcrunch.html HTTP/1.1\" 200 -\n",
            "127.0.0.1 - - [19/Apr/2022 23:24:32] code 404, message File not found\n",
            "127.0.0.1 - - [19/Apr/2022 23:24:32] \"GET /favicon.ico HTTP/1.1\" 404 -\n",
            "\n",
            "Keyboard interrupt received, exiting.\n"
          ]
        }
      ]
    }
  ]
}